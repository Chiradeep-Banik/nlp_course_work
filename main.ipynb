{
 "cells": [
  {
   "cell_type": "code",
   "execution_count": 2,
   "metadata": {},
   "outputs": [],
   "source": [
    "import tensorflow as tf\n",
    "from tensorflow.keras import layers\n",
    "import numpy as np"
   ]
  },
  {
   "cell_type": "code",
   "execution_count": 7,
   "metadata": {},
   "outputs": [
    {
     "name": "stdout",
     "output_type": "stream",
     "text": [
      "tf.Tensor(\n",
      "[[ 0.01483924  0.04020521 -0.02992852  0.04940747  0.02413363]\n",
      " [ 0.04301443 -0.00700309  0.03897263 -0.03940688  0.04141018]\n",
      " [-0.00778183  0.03101427  0.04379281  0.02964788  0.0460611 ]\n",
      " [ 0.02158561  0.02564045  0.04255289  0.02504556 -0.04759538]], shape=(4, 5), dtype=float32)\n"
     ]
    }
   ],
   "source": [
    "embeddings_layer = layers.Embedding(1000,5)\n",
    "\n",
    "data = tf.constant([1,2,3,4])\n",
    "\n",
    "result = embeddings_layer(data)\n",
    "\n",
    "print(result)"
   ]
  }
 ],
 "metadata": {
  "kernelspec": {
   "display_name": "env",
   "language": "python",
   "name": "python3"
  },
  "language_info": {
   "codemirror_mode": {
    "name": "ipython",
    "version": 3
   },
   "file_extension": ".py",
   "mimetype": "text/x-python",
   "name": "python",
   "nbconvert_exporter": "python",
   "pygments_lexer": "ipython3",
   "version": "3.11.7"
  }
 },
 "nbformat": 4,
 "nbformat_minor": 2
}
